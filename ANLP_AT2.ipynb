# Import necessary libraries
import pandas as pd
import gensim
from gensim import corpora, models

# Load the hotel review dataset
df=pd.read_csv("/Users/asmak/Desktop/Tripadvisor.csv")


