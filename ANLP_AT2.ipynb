{
 "cells": [
  {
   "cell_type": "code",
   "execution_count": 1,
   "id": "8c7cb9e6",
   "metadata": {},
   "outputs": [
    {
     "name": "stdout",
     "output_type": "stream",
     "text": [
      "This is ANLP_AT2 world\n"
     ]
    }
   ],
   "source": [
    "print(\"This is ANLP_AT2 world\")"
   ]
  },
  {
   "cell_type": "code",
   "execution_count": null,
   "id": "e24934b2",
   "metadata": {},
   "outputs": [],
   "source": []
  }
 ],
 "metadata": {
  "kernelspec": {
   "display_name": "Python 3 (ipykernel)",
   "language": "python",
   "name": "python3"
  },
  "language_info": {
   "codemirror_mode": {
    "name": "ipython",
    "version": 3
   },
   "file_extension": ".py",
   "mimetype": "text/x-python",
   "name": "python",
   "nbconvert_exporter": "python",
   "pygments_lexer": "ipython3",
   "version": "3.9.13"
  }
 },
 "nbformat": 4,
 "nbformat_minor": 5
}
